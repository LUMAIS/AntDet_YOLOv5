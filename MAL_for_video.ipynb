{
  "nbformat": 4,
  "nbformat_minor": 0,
  "metadata": {
    "colab": {
      "name": "MAL for video.ipynb",
      "provenance": [],
      "collapsed_sections": []
    },
    "kernelspec": {
      "name": "python3",
      "display_name": "Python 3"
    },
    "language_info": {
      "name": "python"
    }
  },
  "cells": [
    {
      "cell_type": "markdown",
      "source": [
        "# Model-Assisted Labeling for *video* in Labelbox"
      ],
      "metadata": {
        "id": "okl5WPl2nFcw"
      }
    },
    {
      "cell_type": "markdown",
      "source": [
        "## Imports"
      ],
      "metadata": {
        "id": "mnKf1lYPnAXx"
      }
    },
    {
      "cell_type": "code",
      "execution_count": null,
      "metadata": {
        "id": "lhSPVw0XG2gU"
      },
      "outputs": [],
      "source": [
        "!pip install labelbox[data]"
      ]
    },
    {
      "cell_type": "code",
      "source": [
        "import labelbox.data\n",
        "import ndjson\n",
        "import requests\n",
        "import json\n",
        "import uuid\n",
        "import requests\n",
        "import numpy as np\n",
        "from labelbox.schema.ontology import OntologyBuilder, Tool\n",
        "from labelbox import Client\n",
        "# from image_model import predict, class_mappings, load_model\n",
        "# from image_mal_utils import (visualize_bbox_ndjsons, visualize_poly_ndjsons,\n",
        "                            #  visualize_point_ndjsons, visualize_mask_ndjsons)\n",
        "# from io import BytesIO\n",
        "# from getpass import getpass\n",
        "# from PIL import Image\n",
        "# from google.cloud import storage\n",
        "# import datetime as dt\n",
        "# from skimage import measure\n",
        "# import os\n",
        "\n",
        "# from labelbox.data.annotation_types import (\n",
        "#     Label,\n",
        "#     LabelList,\n",
        "#     VideoData,\n",
        "#     Rectangle,\n",
        "#     Point,\n",
        "#     VideoObjectAnnotation\n",
        "# )"
      ],
      "metadata": {
        "id": "zqSjfvf3G6nY"
      },
      "execution_count": 3,
      "outputs": []
    },
    {
      "cell_type": "markdown",
      "source": [
        "## Connecting to project"
      ],
      "metadata": {
        "id": "D0fp6tNnnOLf"
      }
    },
    {
      "cell_type": "code",
      "source": [
        "LB_API_KEY = ''  # Model-assisted_Labeling key\n",
        "# Create Labelbox client\n",
        "client = Client(api_key=LB_API_KEY)\n",
        "#Test Project: testing_mal_project\n",
        "project = client.get_project('ckty9de742d3e0y8o8e617n5c')\n",
        "ontology = project.ontology()\n",
        "#test_copy_100testimages_s25p_f10.mp4 from \"Test Dataset_Lions&Ants\" Dataset\n",
        "datarow_id = 'cktkcb3zhnh5l0yrf6d9oezre'"
      ],
      "metadata": {
        "id": "sAMr_TnLHD4m"
      },
      "execution_count": 4,
      "outputs": []
    },
    {
      "cell_type": "code",
      "source": [
        "project.enable_model_assisted_labeling()"
      ],
      "metadata": {
        "colab": {
          "base_uri": "https://localhost:8080/"
        },
        "id": "i5kd0WkM9G1Q",
        "outputId": "05f37b01-a829-4125-832e-8d52f24b8abc"
      },
      "execution_count": 5,
      "outputs": [
        {
          "output_type": "execute_result",
          "data": {
            "text/plain": [
              "True"
            ]
          },
          "metadata": {},
          "execution_count": 5
        }
      ]
    },
    {
      "cell_type": "markdown",
      "source": [
        "Conecting to the ontology, so we can use schemas to upload annotations."
      ],
      "metadata": {
        "id": "4M0Spmo5nXVI"
      }
    },
    {
      "cell_type": "code",
      "source": [
        "class2id = {\"ant\": 0,\n",
        "            \"ant-head\": 1,\n",
        "            \"trophallaxis-ant\": 2,\n",
        "            \"larva\": 3,\n",
        "            \"trophallaxis-larva\": 4,\n",
        "            \"food-noise\": 5,\n",
        "            \"pupa\": 6,\n",
        "            \"barcode\": 7,\n",
        "            \"uncategorized\": 8}\n",
        "\n",
        "ontology_builder = OntologyBuilder(tools=[Tool(tool=Tool.Type.BBOX, name=key) for key in class2id])\n",
        "# So lets reconstruct the ontology builder with all of the ids.\n",
        "ontology = ontology_builder.from_project(project)\n",
        "# We want all of the feature schemas to be easily accessible by name.\n",
        "schema_lookup = {class2id[tool.name]: tool.feature_schema_id for tool in ontology.tools}\n",
        "print(schema_lookup)"
      ],
      "metadata": {
        "colab": {
          "base_uri": "https://localhost:8080/"
        },
        "id": "C3xAh0boyQQR",
        "outputId": "192582ab-fd02-4c01-bb4e-4ccf6d773e0f"
      },
      "execution_count": 6,
      "outputs": [
        {
          "output_type": "stream",
          "name": "stdout",
          "text": [
            "{0: 'ckty9dfw44f8h0y9w0cnje3yr', 1: 'ckty9dfw44f8j0y9w9jgo7zx4', 2: 'ckty9dfw54f8l0y9wb6ig7vu4', 3: 'ckty9dfw54f8n0y9wcrb65ies', 4: 'ckty9dfw54f8p0y9w4qxygs9m', 5: 'ckty9dfw64f8r0y9wcu08h7ca', 6: 'ckty9dfw64f8t0y9wb3lv6svx', 7: 'ckty9dfw64f8v0y9wfnwl2fht', 8: 'ckty9dfw64f8x0y9w4kske8vf'}\n"
          ]
        }
      ]
    },
    {
      "cell_type": "code",
      "source": [
        "def create_boxes_ndjson(filepath: str, datarow_id: str, framenum: int = 1) -> list:\n",
        "    \"\"\"\n",
        "    Creates annotations using txt file with model predictions according to Lablebox style.\n",
        "    \n",
        "    Args:\n",
        "        filepath (str): path to an txt annotation file of the YOLO format\n",
        "        datarow_id (str): id of the data_row to add this annotation to\n",
        "        framenum (int): the number of the frame, which was annotated in a current file\n",
        "        \n",
        "    Returns:\n",
        "        json representation of a bounding box\n",
        "    \"\"\"\n",
        "    annotations = []\n",
        "    with open(filepath, 'r') as f:\n",
        "      for line in f:\n",
        "        cls, center_x, center_y, w, h = tuple(map(lambda x: float(x), line.split()))\n",
        "        annotations.append({\"uuid\": str(uuid.uuid4()),\n",
        "                            \"schemaId\": schema_lookup[int(cls)],\n",
        "                            \"dataRow\": {\n",
        "                              \"id\": datarow_id\n",
        "                            },\n",
        "                            \"segments\": [\n",
        "                              {\n",
        "                                \"keyframes\": [\n",
        "                                  {\n",
        "                                    \"frame\": framenum,\n",
        "                                    \"bbox\": {\n",
        "                                      \"top\": center_y - h / 2,\n",
        "                                      \"left\": center_x - w / 2,\n",
        "                                      \"height\": h,\n",
        "                                      \"width\": w\n",
        "                                      }\n",
        "                                  }]\n",
        "                              }]\n",
        "        })\n",
        "\n",
        "    return annotations"
      ],
      "metadata": {
        "id": "Pz3KCZhf0Poh"
      },
      "execution_count": 7,
      "outputs": []
    },
    {
      "cell_type": "markdown",
      "source": [
        "## Upploading annotations *to* Lablebox."
      ],
      "metadata": {
        "id": "0rQyAwZFn7jd"
      }
    },
    {
      "cell_type": "code",
      "source": [
        "upload_task = project.upload_annotations(name=f\"upload-job-{uuid.uuid4()}\",\n",
        "                                         annotations=annotations,\n",
        "                                         validate=False)\n",
        "upload_task.wait_until_done()\n",
        "# Review the upload status\n",
        "print(upload_task.errors) "
      ],
      "metadata": {
        "colab": {
          "base_uri": "https://localhost:8080/"
        },
        "id": "VakTkZFA9M-o",
        "outputId": "f511b9e0-d1b8-4055-9d51-3340265a1602"
      },
      "execution_count": 51,
      "outputs": [
        {
          "output_type": "stream",
          "name": "stdout",
          "text": [
            "[]\n"
          ]
        }
      ]
    },
    {
      "cell_type": "markdown",
      "source": [
        "## Downloading json *from* Lablebox."
      ],
      "metadata": {
        "id": "467rz30lpgih"
      }
    },
    {
      "cell_type": "markdown",
      "source": [
        "Downloading json from Lablebox. Be attentive, you can do it either using labeler email or External ID (video name). And if your uploaded annotations were not changed by a laberer on the labelbox website then they can not be available to download."
      ],
      "metadata": {
        "id": "bGCvmgFnoAqD"
      }
    },
    {
      "cell_type": "code",
      "source": [
        "export_url = project.export_labels()\n",
        "exports = requests.get(export_url).json()\n",
        "# exports\n",
        "for el in exports:\n",
        "  if el['External ID'] and 'test_copy_100testimages_s25p_f10' in el['External ID']:\n",
        "    print(el)\n",
        "    annotations_url = el[\"Label\"][\"frames\"]"
      ],
      "metadata": {
        "id": "kWBXnpbc9fKK"
      },
      "execution_count": 13,
      "outputs": []
    },
    {
      "cell_type": "code",
      "source": [
        "# annotations_url = 'https://api.labelbox.com/v1/frames/cky1g4oze0z1y0zapb0b76rcs'\n",
        "headers = {\"Authorization\": f\"Bearer {LB_API_KEY}\"}\n",
        "annotations = ndjson.loads(requests.get(annotations_url, headers=headers).text)\n",
        "\n",
        "# fname = ''.join(('_'.join(labels[i]['Dataset Name'].split()), '-', lbemail.split('@')[0], '.json'))\n",
        "with open('file.json', 'w') as fout:\n",
        "\tjson.dump(annotations, fout)"
      ],
      "metadata": {
        "id": "f31xm9YqHJqh"
      },
      "execution_count": 31,
      "outputs": []
    },
    {
      "cell_type": "code",
      "source": [
        "vlabels = project.video_label_generator()\n",
        "# Export labels as a json:\n",
        "labels = project.export_labels(download = True)"
      ],
      "metadata": {
        "id": "6GDy7nZrCzct"
      },
      "execution_count": 9,
      "outputs": []
    },
    {
      "cell_type": "code",
      "source": [
        "create_boxes_ndjson('1.txt', 'cktkcb3zhnh5l0yrf6d9oezre', 1)"
      ],
      "metadata": {
        "colab": {
          "base_uri": "https://localhost:8080/"
        },
        "id": "u1Yd8gckghg2",
        "outputId": "40aefb82-9c28-4b78-ab3b-578afdb17691"
      },
      "execution_count": 11,
      "outputs": [
        {
          "output_type": "execute_result",
          "data": {
            "text/plain": [
              "[{'dataRow': {'id': 'cktkcb3zhnh5l0yrf6d9oezre'},\n",
              "  'schemaId': 'ckty9dfw44f8h0y9w0cnje3yr',\n",
              "  'segments': [{'keyframes': [{'bbox': {'height': 388.0,\n",
              "       'left': 34.0,\n",
              "       'top': 373.0,\n",
              "       'width': 400.0},\n",
              "      'frame': 1}]}],\n",
              "  'uuid': 'e38178d8-22bf-44a6-8d1c-1f85d864b761'},\n",
              " {'dataRow': {'id': 'cktkcb3zhnh5l0yrf6d9oezre'},\n",
              "  'schemaId': 'ckty9dfw44f8j0y9w9jgo7zx4',\n",
              "  'segments': [{'keyframes': [{'bbox': {'height': 100.0,\n",
              "       'left': 184.0,\n",
              "       'top': 517.0,\n",
              "       'width': 100.0},\n",
              "      'frame': 1}]}],\n",
              "  'uuid': 'b7c1ae1b-f32d-425c-9793-b8e77aebc46f'}]"
            ]
          },
          "metadata": {},
          "execution_count": 11
        }
      ]
    }
  ]
}